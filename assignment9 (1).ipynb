{
  "nbformat": 4,
  "nbformat_minor": 0,
  "metadata": {
    "colab": {
      "provenance": []
    },
    "kernelspec": {
      "name": "python3",
      "display_name": "Python 3"
    },
    "language_info": {
      "name": "python"
    }
  },
  "cells": [
    {
      "cell_type": "code",
      "execution_count": null,
      "metadata": {
        "id": "BeqCfAWkH2_t",
        "colab": {
          "base_uri": "https://localhost:8080/"
        },
        "outputId": "facde378-f9e7-4530-d765-d4ec0bfb9303"
      },
      "outputs": [
        {
          "output_type": "stream",
          "name": "stdout",
          "text": [
            "Requirement already satisfied: nltk in /usr/local/lib/python3.11/dist-packages (3.9.1)\n",
            "Requirement already satisfied: click in /usr/local/lib/python3.11/dist-packages (from nltk) (8.1.8)\n",
            "Requirement already satisfied: joblib in /usr/local/lib/python3.11/dist-packages (from nltk) (1.4.2)\n",
            "Requirement already satisfied: regex>=2021.8.3 in /usr/local/lib/python3.11/dist-packages (from nltk) (2024.11.6)\n",
            "Requirement already satisfied: tqdm in /usr/local/lib/python3.11/dist-packages (from nltk) (4.67.1)\n"
          ]
        }
      ],
      "source": [
        "#Install NLTK\n",
        "!pip install nltk"
      ]
    },
    {
      "cell_type": "code",
      "source": [
        "# Imports and Downloads\n",
        "import nltk\n",
        "import re\n",
        "import string\n",
        "from nltk.tokenize import word_tokenize, sent_tokenize\n",
        "from nltk.corpus import stopwords\n",
        "from nltk.stem import PorterStemmer, LancasterStemmer, WordNetLemmatizer\n",
        "from nltk import FreqDist\n",
        "\n",
        "# Download required resources\n",
        "nltk.download('punkt')\n",
        "nltk.download('stopwords')\n",
        "nltk.download('wordnet')\n",
        "nltk.download('punkt_tab') # Download the punkt_tab resource"
      ],
      "metadata": {
        "colab": {
          "base_uri": "https://localhost:8080/"
        },
        "id": "nRrGwoL2n6B9",
        "outputId": "bd60c3ba-d975-4f7c-dc53-b747421020d6"
      },
      "execution_count": null,
      "outputs": [
        {
          "output_type": "stream",
          "name": "stderr",
          "text": [
            "[nltk_data] Downloading package punkt to /root/nltk_data...\n",
            "[nltk_data]   Unzipping tokenizers/punkt.zip.\n",
            "[nltk_data] Downloading package stopwords to /root/nltk_data...\n",
            "[nltk_data]   Unzipping corpora/stopwords.zip.\n",
            "[nltk_data] Downloading package wordnet to /root/nltk_data...\n",
            "[nltk_data] Downloading package punkt_tab to /root/nltk_data...\n",
            "[nltk_data]   Unzipping tokenizers/punkt_tab.zip.\n"
          ]
        },
        {
          "output_type": "execute_result",
          "data": {
            "text/plain": [
              "True"
            ]
          },
          "metadata": {},
          "execution_count": 5
        }
      ]
    },
    {
      "cell_type": "markdown",
      "source": [
        "Ques 1"
      ],
      "metadata": {
        "id": "yv-pDjPE1Z1N"
      }
    },
    {
      "cell_type": "code",
      "source": [
        "import string\n",
        "text=\"I really enjoy learning about technology because it changes so quickly and impacts everything around us.\\n  From smartphones to artificial intelligence, it's amazing how new inventions make life easier and more exciting.\\n  I'm especially interested in how technology helps solve real-world problems, like improving healthcare or fighting climate change.\\n  Watching how fast things evolve keeps me curious and inspired.\\n\"\n",
        "low_text=text.lower()\n",
        "without_punc=low_text.translate(str.maketrans('','',string.punctuation))\n",
        "print(low_text)\n",
        "print(\"\\nremoved punctuation:\\n\",without_punc)"
      ],
      "metadata": {
        "colab": {
          "base_uri": "https://localhost:8080/"
        },
        "id": "TOtp0SpXoEbX",
        "outputId": "10c09ff4-dd23-4ca3-d694-d1186a476fb0"
      },
      "execution_count": null,
      "outputs": [
        {
          "output_type": "stream",
          "name": "stdout",
          "text": [
            "i really enjoy learning about technology because it changes so quickly and impacts everything around us.\n",
            "  from smartphones to artificial intelligence, it's amazing how new inventions make life easier and more exciting.\n",
            "  i'm especially interested in how technology helps solve real-world problems, like improving healthcare or fighting climate change.\n",
            "  watching how fast things evolve keeps me curious and inspired.\n",
            "\n",
            "\n",
            "removed punctuation:\n",
            " i really enjoy learning about technology because it changes so quickly and impacts everything around us\n",
            "  from smartphones to artificial intelligence its amazing how new inventions make life easier and more exciting\n",
            "  im especially interested in how technology helps solve realworld problems like improving healthcare or fighting climate change\n",
            "  watching how fast things evolve keeps me curious and inspired\n",
            "\n"
          ]
        }
      ]
    },
    {
      "cell_type": "code",
      "source": [
        "token_w=word_tokenize(without_punc)\n",
        "token_s=sent_tokenize(text)\n",
        "print(\"word tokens:\",token_w)\n",
        "print(\"\\nsentence tokens:\",token_s)"
      ],
      "metadata": {
        "colab": {
          "base_uri": "https://localhost:8080/"
        },
        "id": "5nLb_MqMqx6C",
        "outputId": "6406cd2e-df2f-4447-95d8-f5c5fd5e4e12"
      },
      "execution_count": null,
      "outputs": [
        {
          "output_type": "stream",
          "name": "stdout",
          "text": [
            "word tokens: ['i', 'really', 'enjoy', 'learning', 'about', 'technology', 'because', 'it', 'changes', 'so', 'quickly', 'and', 'impacts', 'everything', 'around', 'us', 'from', 'smartphones', 'to', 'artificial', 'intelligence', 'its', 'amazing', 'how', 'new', 'inventions', 'make', 'life', 'easier', 'and', 'more', 'exciting', 'im', 'especially', 'interested', 'in', 'how', 'technology', 'helps', 'solve', 'realworld', 'problems', 'like', 'improving', 'healthcare', 'or', 'fighting', 'climate', 'change', 'watching', 'how', 'fast', 'things', 'evolve', 'keeps', 'me', 'curious', 'and', 'inspired']\n",
            "\n",
            "sentence tokens: ['I really enjoy learning about technology because it changes so quickly and impacts everything around us.', \"From smartphones to artificial intelligence, it's amazing how new inventions make life easier and more exciting.\", \"I'm especially interested in how technology helps solve real-world problems, like improving healthcare or fighting climate change.\", 'Watching how fast things evolve keeps me curious and inspired.']\n"
          ]
        }
      ]
    },
    {
      "cell_type": "code",
      "source": [
        "stop_words=set(stopwords.words('english'))\n",
        "filtered_tokens=[word for word in token_w if word.lower() not in stop_words]\n",
        "print(\"filtered tokens:\",filtered_tokens)"
      ],
      "metadata": {
        "colab": {
          "base_uri": "https://localhost:8080/"
        },
        "id": "_xR6hBPVsC8a",
        "outputId": "75bf9fac-09fb-4a6e-9150-bf0d9caeeb42"
      },
      "execution_count": null,
      "outputs": [
        {
          "output_type": "stream",
          "name": "stdout",
          "text": [
            "filtered tokens: ['really', 'enjoy', 'learning', 'technology', 'changes', 'quickly', 'impacts', 'everything', 'around', 'us', 'smartphones', 'artificial', 'intelligence', 'amazing', 'new', 'inventions', 'make', 'life', 'easier', 'exciting', 'im', 'especially', 'interested', 'technology', 'helps', 'solve', 'realworld', 'problems', 'like', 'improving', 'healthcare', 'fighting', 'climate', 'change', 'watching', 'fast', 'things', 'evolve', 'keeps', 'curious', 'inspired']\n"
          ]
        }
      ]
    },
    {
      "cell_type": "code",
      "source": [
        "fd= FreqDist(filtered_tokens)\n",
        "print(\"frequency distribution:\",fd)\n",
        "fd.plot(10,title='Frequency Distribution')"
      ],
      "metadata": {
        "colab": {
          "base_uri": "https://localhost:8080/",
          "height": 587
        },
        "id": "6EUss1Xitm0X",
        "outputId": "ee1d6288-7f9a-40cd-d428-e624e5a0a997"
      },
      "execution_count": null,
      "outputs": [
        {
          "output_type": "stream",
          "name": "stdout",
          "text": [
            "frequency distribution: <FreqDist with 40 samples and 41 outcomes>\n"
          ]
        },
        {
          "output_type": "execute_result",
          "data": {
            "text/plain": [
              "<Axes: title={'center': 'Frequency Distribution'}, xlabel='Samples', ylabel='Counts'>"
            ]
          },
          "metadata": {},
          "execution_count": 8
        },
        {
          "output_type": "display_data",
          "data": {
            "text/plain": [
              "<Figure size 640x480 with 1 Axes>"
            ],
            "image/png": "[encoded data removed]"
          },
          "metadata": {}
        }
      ]
    },
    {
      "cell_type": "markdown",
      "source": [
        "Ques 2"
      ],
      "metadata": {
        "id": "Ue0xIIoc1dAp"
      }
    },
    {
      "cell_type": "code",
      "source": [
        "for word in filtered_tokens:\n",
        "  print(f'{word}-> Stemmed: {PorterStemmer().stem(word)}, Lemmatized: {WordNetLemmatizer().lemmatize(word)}')"
      ],
      "metadata": {
        "colab": {
          "base_uri": "https://localhost:8080/"
        },
        "id": "c1f_OLZAwXWt",
        "outputId": "ffdbc14e-937e-4aa1-a632-870077df1580"
      },
      "execution_count": null,
      "outputs": [
        {
          "output_type": "stream",
          "name": "stdout",
          "text": [
            "really-> Stemmed: realli, Lemmatized: really\n",
            "enjoy-> Stemmed: enjoy, Lemmatized: enjoy\n",
            "learning-> Stemmed: learn, Lemmatized: learning\n",
            "technology-> Stemmed: technolog, Lemmatized: technology\n",
            "changes-> Stemmed: chang, Lemmatized: change\n",
            "quickly-> Stemmed: quickli, Lemmatized: quickly\n",
            "impacts-> Stemmed: impact, Lemmatized: impact\n",
            "everything-> Stemmed: everyth, Lemmatized: everything\n",
            "around-> Stemmed: around, Lemmatized: around\n",
            "us-> Stemmed: us, Lemmatized: u\n",
            "smartphones-> Stemmed: smartphon, Lemmatized: smartphones\n",
            "artificial-> Stemmed: artifici, Lemmatized: artificial\n",
            "intelligence-> Stemmed: intellig, Lemmatized: intelligence\n",
            "amazing-> Stemmed: amaz, Lemmatized: amazing\n",
            "new-> Stemmed: new, Lemmatized: new\n",
            "inventions-> Stemmed: invent, Lemmatized: invention\n",
            "make-> Stemmed: make, Lemmatized: make\n",
            "life-> Stemmed: life, Lemmatized: life\n",
            "easier-> Stemmed: easier, Lemmatized: easier\n",
            "exciting-> Stemmed: excit, Lemmatized: exciting\n",
            "im-> Stemmed: im, Lemmatized: im\n",
            "especially-> Stemmed: especi, Lemmatized: especially\n",
            "interested-> Stemmed: interest, Lemmatized: interested\n",
            "technology-> Stemmed: technolog, Lemmatized: technology\n",
            "helps-> Stemmed: help, Lemmatized: help\n",
            "solve-> Stemmed: solv, Lemmatized: solve\n",
            "realworld-> Stemmed: realworld, Lemmatized: realworld\n",
            "problems-> Stemmed: problem, Lemmatized: problem\n",
            "like-> Stemmed: like, Lemmatized: like\n",
            "improving-> Stemmed: improv, Lemmatized: improving\n",
            "healthcare-> Stemmed: healthcar, Lemmatized: healthcare\n",
            "fighting-> Stemmed: fight, Lemmatized: fighting\n",
            "climate-> Stemmed: climat, Lemmatized: climate\n",
            "change-> Stemmed: chang, Lemmatized: change\n",
            "watching-> Stemmed: watch, Lemmatized: watching\n",
            "fast-> Stemmed: fast, Lemmatized: fast\n",
            "things-> Stemmed: thing, Lemmatized: thing\n",
            "evolve-> Stemmed: evolv, Lemmatized: evolve\n",
            "keeps-> Stemmed: keep, Lemmatized: keep\n",
            "curious-> Stemmed: curiou, Lemmatized: curious\n",
            "inspired-> Stemmed: inspir, Lemmatized: inspired\n"
          ]
        }
      ]
    },
    {
      "cell_type": "markdown",
      "source": [
        "Ques 3"
      ],
      "metadata": {
        "id": "V11Vsz1b1gwd"
      }
    },
    {
      "cell_type": "code",
      "source": [
        "w5=re.findall(r'\\b\\w{5}\\b',text)\n",
        "print(\"words with nore than 5 letters:\\n\", w5)\n",
        "\n",
        "num=re.findall(r'\\b\\d+\\b',text)\n",
        "print(\"numbers in text:\\n\",num)\n",
        "\n",
        "capital=re.findall(r'\\b[A-Z][a-zA-Z]+\\b',text)\n",
        "print(\"capitalized words:\\n\",capital)"
      ],
      "metadata": {
        "colab": {
          "base_uri": "https://localhost:8080/"
        },
        "id": "fGywmUnVGVQ4",
        "outputId": "43b34e11-07b0-4ca2-fa09-f65945ea539f"
      },
      "execution_count": null,
      "outputs": [
        {
          "output_type": "stream",
          "name": "stdout",
          "text": [
            "words with nore than 5 letters:\n",
            " ['enjoy', 'about', 'helps', 'solve', 'world', 'keeps']\n",
            "numbers in text:\n",
            " []\n",
            "capitalized words:\n",
            " ['From', 'Watching']\n"
          ]
        }
      ]
    },
    {
      "cell_type": "code",
      "source": [
        "w_alphabet=re.findall(r'\\b[a-zA-Z]\\w+\\b',text)\n",
        "print(\"words with only alphabets:\\n\",w_alphabet)\n",
        "\n",
        "w_vowel=re.findall(r'\\b[aeiouAEIOU]\\w+\\b',text)\n",
        "print(\"words starting with a vowel:\\n\",w_vowel)"
      ],
      "metadata": {
        "colab": {
          "base_uri": "https://localhost:8080/"
        },
        "id": "iFn1fN_0K0H9",
        "outputId": "088c41de-7854-40e2-b016-e11ab46eb88f"
      },
      "execution_count": null,
      "outputs": [
        {
          "output_type": "stream",
          "name": "stdout",
          "text": [
            "words with only alphabets:\n",
            " ['really', 'enjoy', 'learning', 'about', 'technology', 'because', 'it', 'changes', 'so', 'quickly', 'and', 'impacts', 'everything', 'around', 'us', 'From', 'smartphones', 'to', 'artificial', 'intelligence', 'it', 'amazing', 'how', 'new', 'inventions', 'make', 'life', 'easier', 'and', 'more', 'exciting', 'especially', 'interested', 'in', 'how', 'technology', 'helps', 'solve', 'real', 'world', 'problems', 'like', 'improving', 'healthcare', 'or', 'fighting', 'climate', 'change', 'Watching', 'how', 'fast', 'things', 'evolve', 'keeps', 'me', 'curious', 'and', 'inspired']\n",
            "words starting with a vowel:\n",
            " ['enjoy', 'about', 'it', 'and', 'impacts', 'everything', 'around', 'us', 'artificial', 'intelligence', 'it', 'amazing', 'inventions', 'easier', 'and', 'exciting', 'especially', 'interested', 'in', 'improving', 'or', 'evolve', 'and', 'inspired']\n"
          ]
        }
      ]
    },
    {
      "cell_type": "markdown",
      "source": [
        "Ques 4"
      ],
      "metadata": {
        "id": "bTT4yJaV1lwS"
      }
    },
    {
      "cell_type": "code",
      "source": [
        "def custom_tokenizer(text):\n",
        "  pattern = r\"\\b\\w+(?:-\\w+)+\\b|\\b\\w+'[a-z]+\\b|\\b\\d+\\.\\d+\\b|\\b\\d+\\b|\\b[a-zA-Z]+\\b\"\n",
        "  tokens=re.findall(pattern,text)\n",
        "  return tokens\n",
        "\n",
        "print(custom_tokenizer(text))\n",
        "print(custom_tokenizer(\"State-of-the-art AI isn't easy to build. 3.14 is Pi.\"))"
      ],
      "metadata": {
        "colab": {
          "base_uri": "https://localhost:8080/"
        },
        "id": "g3hQAYPzLtrj",
        "outputId": "d3cf3762-5fbc-4ed0-81f7-af69b5e3e393"
      },
      "execution_count": null,
      "outputs": [
        {
          "output_type": "stream",
          "name": "stdout",
          "text": [
            "['I', 'really', 'enjoy', 'learning', 'about', 'technology', 'because', 'it', 'changes', 'so', 'quickly', 'and', 'impacts', 'everything', 'around', 'us', 'From', 'smartphones', 'to', 'artificial', 'intelligence', \"it's\", 'amazing', 'how', 'new', 'inventions', 'make', 'life', 'easier', 'and', 'more', 'exciting', \"I'm\", 'especially', 'interested', 'in', 'how', 'technology', 'helps', 'solve', 'real-world', 'problems', 'like', 'improving', 'healthcare', 'or', 'fighting', 'climate', 'change', 'Watching', 'how', 'fast', 'things', 'evolve', 'keeps', 'me', 'curious', 'and', 'inspired']\n",
            "['State-of-the-art', 'AI', \"isn't\", 'easy', 'to', 'build', '3.14', 'is', 'Pi']\n"
          ]
        }
      ]
    },
    {
      "cell_type": "markdown",
      "source": [
        "Ques 5"
      ],
      "metadata": {
        "id": "e0qgLR2W1oZr"
      }
    },
    {
      "cell_type": "code",
      "source": [
        "def replace_text(text):\n",
        "  text=re.sub(r'\\b[\\w\\.-]+@[\\w\\.-]+\\.\\w+\\b','<EMAIL>',text)\n",
        "  text=re.sub(r'https?://\\S+|www\\.\\S+','<URL>',text)\n",
        "  text = re.sub(r'(?:\\+91[\\s\\-]?)?\\d{10}|\\d{3}-\\d{3}-\\d{4}', '<PHONE>', text)\n",
        "  return text\n",
        "\n",
        "print(replace_text(\"Contact me at alice@example.com or visit https://example.com or call at 123-456-7890 or +91 9876543210.\"))\n"
      ],
      "metadata": {
        "colab": {
          "base_uri": "https://localhost:8080/"
        },
        "id": "SuP5erCQqhmq",
        "outputId": "704566c8-b309-4fe9-c01e-09d8188d88f6"
      },
      "execution_count": null,
      "outputs": [
        {
          "output_type": "stream",
          "name": "stdout",
          "text": [
            "Contact me at <EMAIL> or visit <URL> or call at <PHONE> or <PHONE>.\n"
          ]
        }
      ]
    }
  ]
}