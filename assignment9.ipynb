{
  "nbformat": 4,
  "nbformat_minor": 0,
  "metadata": {
    "colab": {
      "provenance": [],
      "authorship_tag": "ABX9TyN2hhTmupdilNJTSjWFguZv",
      "include_colab_link": true
    },
    "kernelspec": {
      "name": "python3",
      "display_name": "Python 3"
    },
    "language_info": {
      "name": "python"
    }
  },
  "cells": [
    {
      "cell_type": "markdown",
      "metadata": {
        "id": "view-in-github",
        "colab_type": "text"
      },
      "source": [
        "<a href=\"https://colab.research.google.com/github/Itz-Ayushi/Cognitive-Assignments/blob/main/Assignment9.ipynb\" target=\"_parent\"><img src=\"https://colab.research.google.com/assets/colab-badge.svg\" alt=\"Open In Colab\"/></a>"
      ]
    },
    {
      "cell_type": "code",
      "execution_count": 4,
      "metadata": {
        "id": "BeqCfAWkH2_t",
        "colab": {
          "base_uri": "https://localhost:8080/"
        },
        "outputId": "facde378-f9e7-4530-d765-d4ec0bfb9303"
      },
      "outputs": [
        {
          "output_type": "stream",
          "name": "stdout",
          "text": [
            "Requirement already satisfied: nltk in /usr/local/lib/python3.11/dist-packages (3.9.1)\n",
            "Requirement already satisfied: click in /usr/local/lib/python3.11/dist-packages (from nltk) (8.1.8)\n",
            "Requirement already satisfied: joblib in /usr/local/lib/python3.11/dist-packages (from nltk) (1.4.2)\n",
            "Requirement already satisfied: regex>=2021.8.3 in /usr/local/lib/python3.11/dist-packages (from nltk) (2024.11.6)\n",
            "Requirement already satisfied: tqdm in /usr/local/lib/python3.11/dist-packages (from nltk) (4.67.1)\n"
          ]
        }
      ],
      "source": [
        "#Install NLTK\n",
        "!pip install nltk"
      ]
    },
    {
      "cell_type": "code",
      "source": [
        "# Imports and Downloads\n",
        "import nltk\n",
        "import re\n",
        "import string\n",
        "from nltk.tokenize import word_tokenize, sent_tokenize\n",
        "from nltk.corpus import stopwords\n",
        "from nltk.stem import PorterStemmer, LancasterStemmer, WordNetLemmatizer\n",
        "from nltk import FreqDist\n",
        "\n",
        "# Download required resources\n",
        "nltk.download('punkt')\n",
        "nltk.download('stopwords')\n",
        "nltk.download('wordnet')\n",
        "nltk.download('punkt_tab') # Download the punkt_tab resource"
      ],
      "metadata": {
        "colab": {
          "base_uri": "https://localhost:8080/"
        },
        "id": "nRrGwoL2n6B9",
        "outputId": "8f8410a2-2c6d-496d-fe42-393a2a1a638c"
      },
      "execution_count": 5,
      "outputs": [
        {
          "output_type": "stream",
          "name": "stderr",
          "text": [
            "[nltk_data] Downloading package punkt to /root/nltk_data...\n",
            "[nltk_data]   Unzipping tokenizers/punkt.zip.\n",
            "[nltk_data] Downloading package stopwords to /root/nltk_data...\n",
            "[nltk_data]   Unzipping corpora/stopwords.zip.\n",
            "[nltk_data] Downloading package wordnet to /root/nltk_data...\n",
            "[nltk_data] Downloading package punkt_tab to /root/nltk_data...\n",
            "[nltk_data]   Unzipping tokenizers/punkt_tab.zip.\n"
          ]
        },
        {
          "output_type": "execute_result",
          "data": {
            "text/plain": [
              "True"
            ]
          },
          "metadata": {},
          "execution_count": 5
        }
      ]
    },
    {
      "cell_type": "markdown",
      "source": [
        "Ques 1"
      ],
      "metadata": {
        "id": "yv-pDjPE1Z1N"
      }
    },
    {
      "cell_type": "code",
      "source": [
        "import string\n",
        "text=\" Balancing hobbies with academic pressure is key to staying healthy and focused.\\n Even a short break for something you enjoy—like music, art, or writing—can refresh your mind and improve productivity.\\n It’s not a distraction, it’s smart self-care.\"\n",
        "low_text=text.lower()\n",
        "without_punc=low_text.translate(str.maketrans('','',string.punctuation))\n",
        "print(low_text)\n",
        "print(\"\\nremoved punctuation:\\n\",without_punc)"
      ],
      "metadata": {
        "colab": {
          "base_uri": "https://localhost:8080/"
        },
        "id": "TOtp0SpXoEbX",
        "outputId": "179eb9b8-739d-45a3-ebb7-37e49cef5a72"
      },
      "execution_count": 3,
      "outputs": [
        {
          "output_type": "stream",
          "name": "stdout",
          "text": [
            " balancing hobbies with academic pressure is key to staying healthy and focused.\n",
            " even a short break for something you enjoy—like music, art, or writing—can refresh your mind and improve productivity.\n",
            " it’s not a distraction, it’s smart self-care.\n",
            "\n",
            "removed punctuation:\n",
            "  balancing hobbies with academic pressure is key to staying healthy and focused\n",
            " even a short break for something you enjoy—like music art or writing—can refresh your mind and improve productivity\n",
            " it’s not a distraction it’s smart selfcare\n"
          ]
        }
      ]
    },
    {
      "cell_type": "code",
      "source": [
        "token_w=word_tokenize(without_punc)\n",
        "token_s=sent_tokenize(text)\n",
        "print(\"word tokens:\",token_w)\n",
        "print(\"\\nsentence tokens:\",token_s)"
      ],
      "metadata": {
        "colab": {
          "base_uri": "https://localhost:8080/"
        },
        "id": "5nLb_MqMqx6C",
        "outputId": "647f84cf-9e63-45e1-853a-569c590d4fca"
      },
      "execution_count": 6,
      "outputs": [
        {
          "output_type": "stream",
          "name": "stdout",
          "text": [
            "word tokens: ['balancing', 'hobbies', 'with', 'academic', 'pressure', 'is', 'key', 'to', 'staying', 'healthy', 'and', 'focused', 'even', 'a', 'short', 'break', 'for', 'something', 'you', 'enjoy—like', 'music', 'art', 'or', 'writing—can', 'refresh', 'your', 'mind', 'and', 'improve', 'productivity', 'it', '’', 's', 'not', 'a', 'distraction', 'it', '’', 's', 'smart', 'selfcare']\n",
            "\n",
            "sentence tokens: [' Balancing hobbies with academic pressure is key to staying healthy and focused.', 'Even a short break for something you enjoy—like music, art, or writing—can refresh your mind and improve productivity.', 'It’s not a distraction, it’s smart self-care.']\n"
          ]
        }
      ]
    },
    {
      "cell_type": "code",
      "source": [
        "stop_words=set(stopwords.words('english'))\n",
        "filtered_tokens=[word for word in token_w if word.lower() not in stop_words]\n",
        "print(\"filtered tokens:\",filtered_tokens)"
      ],
      "metadata": {
        "colab": {
          "base_uri": "https://localhost:8080/"
        },
        "id": "_xR6hBPVsC8a",
        "outputId": "75c91031-cf31-4204-acbb-b2863a7764b2"
      },
      "execution_count": 8,
      "outputs": [
        {
          "output_type": "stream",
          "name": "stdout",
          "text": [
            "filtered tokens: ['balancing', 'hobbies', 'academic', 'pressure', 'key', 'staying', 'healthy', 'focused', 'even', 'short', 'break', 'something', 'enjoy—like', 'music', 'art', 'writing—can', 'refresh', 'mind', 'improve', 'productivity', '’', 'distraction', '’', 'smart', 'selfcare']\n"
          ]
        }
      ]
    },
    {
      "cell_type": "code",
      "source": [
        "fd= FreqDist(filtered_tokens)\n",
        "print(\"frequency distribution:\",fd)\n",
        "fd.plot(10,title='Frequency Distribution')"
      ],
      "metadata": {
        "colab": {
          "base_uri": "https://localhost:8080/",
          "height": 561
        },
        "id": "6EUss1Xitm0X",
        "outputId": "43fc7bdc-ecec-40a2-b21c-1d5a9d319875"
      },
      "execution_count": 9,
      "outputs": [
        {
          "output_type": "stream",
          "name": "stdout",
          "text": [
            "frequency distribution: <FreqDist with 24 samples and 25 outcomes>\n"
          ]
        },
        {
          "output_type": "execute_result",
          "data": {
            "text/plain": [
              "<Axes: title={'center': 'Frequency Distribution'}, xlabel='Samples', ylabel='Counts'>"
            ]
          },
          "metadata": {},
          "execution_count": 9
        },
        {
          "output_type": "display_data",
          "data": {
            "text/plain": [
              "<Figure size 640x480 with 1 Axes>"
            ],
            "image/png": "[encoded data removed]"
          },
          "metadata": {}
        }
      ]
    },
    {
      "cell_type": "markdown",
      "source": [
        "Ques 2"
      ],
      "metadata": {
        "id": "Ue0xIIoc1dAp"
      }
    },
    {
      "cell_type": "code",
      "source": [
        "for word in filtered_tokens:\n",
        "  print(f'{word}-> Stemmed: {PorterStemmer().stem(word)}, Lemmatized: {WordNetLemmatizer().lemmatize(word)}')"
      ],
      "metadata": {
        "colab": {
          "base_uri": "https://localhost:8080/"
        },
        "id": "c1f_OLZAwXWt",
        "outputId": "3b0d8976-36f7-46ce-d805-2a00b93c0aec"
      },
      "execution_count": 10,
      "outputs": [
        {
          "output_type": "stream",
          "name": "stdout",
          "text": [
            "balancing-> Stemmed: balanc, Lemmatized: balancing\n",
            "hobbies-> Stemmed: hobbi, Lemmatized: hobby\n",
            "academic-> Stemmed: academ, Lemmatized: academic\n",
            "pressure-> Stemmed: pressur, Lemmatized: pressure\n",
            "key-> Stemmed: key, Lemmatized: key\n",
            "staying-> Stemmed: stay, Lemmatized: staying\n",
            "healthy-> Stemmed: healthi, Lemmatized: healthy\n",
            "focused-> Stemmed: focus, Lemmatized: focused\n",
            "even-> Stemmed: even, Lemmatized: even\n",
            "short-> Stemmed: short, Lemmatized: short\n",
            "break-> Stemmed: break, Lemmatized: break\n",
            "something-> Stemmed: someth, Lemmatized: something\n",
            "enjoy—like-> Stemmed: enjoy—lik, Lemmatized: enjoy—like\n",
            "music-> Stemmed: music, Lemmatized: music\n",
            "art-> Stemmed: art, Lemmatized: art\n",
            "writing—can-> Stemmed: writing—can, Lemmatized: writing—can\n",
            "refresh-> Stemmed: refresh, Lemmatized: refresh\n",
            "mind-> Stemmed: mind, Lemmatized: mind\n",
            "improve-> Stemmed: improv, Lemmatized: improve\n",
            "productivity-> Stemmed: product, Lemmatized: productivity\n",
            "’-> Stemmed: ’, Lemmatized: ’\n",
            "distraction-> Stemmed: distract, Lemmatized: distraction\n",
            "’-> Stemmed: ’, Lemmatized: ’\n",
            "smart-> Stemmed: smart, Lemmatized: smart\n",
            "selfcare-> Stemmed: selfcar, Lemmatized: selfcare\n"
          ]
        }
      ]
    },
    {
      "cell_type": "markdown",
      "source": [
        "Ques 3"
      ],
      "metadata": {
        "id": "V11Vsz1b1gwd"
      }
    },
    {
      "cell_type": "code",
      "source": [
        "w5=re.findall(r'\\b\\w{5}\\b',text)\n",
        "print(\"words with nore than 5 letters:\\n\", w5)\n",
        "\n",
        "num=re.findall(r'\\b\\d+\\b',text)\n",
        "print(\"numbers in text:\\n\",num)\n",
        "\n",
        "capital=re.findall(r'\\b[A-Z][a-zA-Z]+\\b',text)\n",
        "print(\"capitalized words:\\n\",capital)"
      ],
      "metadata": {
        "colab": {
          "base_uri": "https://localhost:8080/"
        },
        "id": "fGywmUnVGVQ4",
        "outputId": "16d01dd4-17ac-4fe8-da46-103a1661bf92"
      },
      "execution_count": 11,
      "outputs": [
        {
          "output_type": "stream",
          "name": "stdout",
          "text": [
            "words with nore than 5 letters:\n",
            " ['short', 'break', 'enjoy', 'music', 'smart']\n",
            "numbers in text:\n",
            " []\n",
            "capitalized words:\n",
            " ['Balancing', 'Even', 'It']\n"
          ]
        }
      ]
    },
    {
      "cell_type": "code",
      "source": [
        "w_alphabet=re.findall(r'\\b[a-zA-Z]\\w+\\b',text)\n",
        "print(\"words with only alphabets:\\n\",w_alphabet)\n",
        "\n",
        "w_vowel=re.findall(r'\\b[aeiouAEIOU]\\w+\\b',text)\n",
        "print(\"words starting with a vowel:\\n\",w_vowel)"
      ],
      "metadata": {
        "colab": {
          "base_uri": "https://localhost:8080/"
        },
        "id": "iFn1fN_0K0H9",
        "outputId": "08e39058-b944-4e18-8c7c-deb7e6cdee01"
      },
      "execution_count": 12,
      "outputs": [
        {
          "output_type": "stream",
          "name": "stdout",
          "text": [
            "words with only alphabets:\n",
            " ['Balancing', 'hobbies', 'with', 'academic', 'pressure', 'is', 'key', 'to', 'staying', 'healthy', 'and', 'focused', 'Even', 'short', 'break', 'for', 'something', 'you', 'enjoy', 'like', 'music', 'art', 'or', 'writing', 'can', 'refresh', 'your', 'mind', 'and', 'improve', 'productivity', 'It', 'not', 'distraction', 'it', 'smart', 'self', 'care']\n",
            "words starting with a vowel:\n",
            " ['academic', 'is', 'and', 'Even', 'enjoy', 'art', 'or', 'and', 'improve', 'It', 'it']\n"
          ]
        }
      ]
    },
    {
      "cell_type": "markdown",
      "source": [
        "Ques 4"
      ],
      "metadata": {
        "id": "bTT4yJaV1lwS"
      }
    },
    {
      "cell_type": "code",
      "source": [
        "def custom_tokenizer(text):\n",
        "  pattern = r\"\\b\\w+(?:-\\w+)+\\b|\\b\\w+'[a-z]+\\b|\\b\\d+\\.\\d+\\b|\\b\\d+\\b|\\b[a-zA-Z]+\\b\"\n",
        "  tokens=re.findall(pattern,text)\n",
        "  return tokens\n",
        "\n",
        "print(custom_tokenizer(text))\n",
        "print(custom_tokenizer(\"State-of-the-art AI isn't easy to build. 3.14 is Pi.\"))"
      ],
      "metadata": {
        "colab": {
          "base_uri": "https://localhost:8080/"
        },
        "id": "g3hQAYPzLtrj",
        "outputId": "7bdfc0c1-be56-49f6-d1b5-1b2caec82348"
      },
      "execution_count": 50,
      "outputs": [
        {
          "output_type": "stream",
          "name": "stdout",
          "text": [
            "['Balancing', 'hobbies', 'with', 'academic', 'pressure', 'is', 'key', 'to', 'staying', 'healthy', 'and', 'focused', 'Even', 'a', 'short', 'break', 'for', 'something', 'you', 'enjoy', 'like', 'music', 'art', 'or', 'writing', 'can', 'refresh', 'your', 'mind', 'and', 'improve', 'productivity', 'It', 's', 'not', 'a', 'distraction', 'it', 's', 'smart', 'self-care']\n",
            "['State-of-the-art', 'AI', \"isn't\", 'easy', 'to', 'build', '3.14', 'is', 'Pi']\n"
          ]
        }
      ]
    },
    {
      "cell_type": "markdown",
      "source": [
        "Ques 5"
      ],
      "metadata": {
        "id": "e0qgLR2W1oZr"
      }
    },
    {
      "cell_type": "code",
      "source": [
        "def replace_text(text):\n",
        "  text=re.sub(r'\\b[\\w\\.-]+@[\\w\\.-]+\\.\\w+\\b','<EMAIL>',text)\n",
        "  text=re.sub(r'https?://\\S+|www\\.\\S+','<URL>',text)\n",
        "  text = re.sub(r'(?:\\+91[\\s\\-]?)?\\d{10}|\\d{3}-\\d{3}-\\d{4}', '<PHONE>', text)\n",
        "  return text\n",
        "\n",
        "print(replace_text(\"Contact me at alice@example.com or visit https://example.com or call at 123-456-7890 or +91 9876543210.\"))\n"
      ],
      "metadata": {
        "colab": {
          "base_uri": "https://localhost:8080/"
        },
        "id": "SuP5erCQqhmq",
        "outputId": "7c8584b5-b919-4033-9280-e452b956b2a6"
      },
      "execution_count": 68,
      "outputs": [
        {
          "output_type": "stream",
          "name": "stdout",
          "text": [
            "Contact me at <EMAIL> or visit <URL> or call at <PHONE> or <PHONE>.\n"
          ]
        }
      ]
    }
  ]
}